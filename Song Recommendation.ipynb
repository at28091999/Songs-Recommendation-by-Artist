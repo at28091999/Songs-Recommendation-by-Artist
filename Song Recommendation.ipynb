{
 "cells": [
  {
   "cell_type": "code",
   "execution_count": 138,
   "id": "e1796610-7866-4e71-9b8e-b49ed86dc08b",
   "metadata": {},
   "outputs": [],
   "source": [
    "import numpy as np\n",
    "import pandas as pd"
   ]
  },
  {
   "cell_type": "code",
   "execution_count": 139,
   "id": "9f93281e-0682-4ce6-add3-4295cc3e2ef9",
   "metadata": {},
   "outputs": [
    {
     "data": {
      "text/html": [
       "<div>\n",
       "<style scoped>\n",
       "    .dataframe tbody tr th:only-of-type {\n",
       "        vertical-align: middle;\n",
       "    }\n",
       "\n",
       "    .dataframe tbody tr th {\n",
       "        vertical-align: top;\n",
       "    }\n",
       "\n",
       "    .dataframe thead th {\n",
       "        text-align: right;\n",
       "    }\n",
       "</style>\n",
       "<table border=\"1\" class=\"dataframe\">\n",
       "  <thead>\n",
       "    <tr style=\"text-align: right;\">\n",
       "      <th></th>\n",
       "      <th>artist</th>\n",
       "      <th>song</th>\n",
       "      <th>link</th>\n",
       "    </tr>\n",
       "  </thead>\n",
       "  <tbody>\n",
       "    <tr>\n",
       "      <th>0</th>\n",
       "      <td>ABBA</td>\n",
       "      <td>Ahe's My Kind Of Girl</td>\n",
       "      <td>/a/abba/ahes+my+kind+of+girl_20598417.html</td>\n",
       "    </tr>\n",
       "    <tr>\n",
       "      <th>1</th>\n",
       "      <td>ABBA</td>\n",
       "      <td>Andante, Andante</td>\n",
       "      <td>/a/abba/andante+andante_20002708.html</td>\n",
       "    </tr>\n",
       "    <tr>\n",
       "      <th>2</th>\n",
       "      <td>ABBA</td>\n",
       "      <td>As Good As New</td>\n",
       "      <td>/a/abba/as+good+as+new_20003033.html</td>\n",
       "    </tr>\n",
       "  </tbody>\n",
       "</table>\n",
       "</div>"
      ],
      "text/plain": [
       "  artist                   song                                        link\n",
       "0   ABBA  Ahe's My Kind Of Girl  /a/abba/ahes+my+kind+of+girl_20598417.html\n",
       "1   ABBA       Andante, Andante       /a/abba/andante+andante_20002708.html\n",
       "2   ABBA         As Good As New        /a/abba/as+good+as+new_20003033.html"
      ]
     },
     "execution_count": 139,
     "metadata": {},
     "output_type": "execute_result"
    }
   ],
   "source": [
    "song_df = pd.read_csv(\"Spotify_song.csv\", encoding=\"ISO-8859-1\")\n",
    "song_df.head(3)"
   ]
  },
  {
   "cell_type": "code",
   "execution_count": 140,
   "id": "5429cd7d-0bc5-4bf2-b1ef-b83789629c87",
   "metadata": {},
   "outputs": [
    {
     "data": {
      "text/plain": [
       "(57650, 3)"
      ]
     },
     "execution_count": 140,
     "metadata": {},
     "output_type": "execute_result"
    }
   ],
   "source": [
    "song_df.shape"
   ]
  },
  {
   "cell_type": "code",
   "execution_count": 141,
   "id": "caaf931b-7b7e-47d4-8a43-44ae8a4f4fc5",
   "metadata": {},
   "outputs": [],
   "source": [
    "song_df = song_df.sample(1700).drop(\"link\", axis = 1).reset_index(drop = True)"
   ]
  },
  {
   "cell_type": "code",
   "execution_count": 142,
   "id": "e0b66938-2997-424c-b29a-f5ef21a66bf5",
   "metadata": {},
   "outputs": [
    {
     "data": {
      "text/plain": [
       "artist    0\n",
       "song      0\n",
       "dtype: int64"
      ]
     },
     "execution_count": 142,
     "metadata": {},
     "output_type": "execute_result"
    }
   ],
   "source": [
    "song_df.isnull().sum()"
   ]
  },
  {
   "cell_type": "code",
   "execution_count": 143,
   "id": "aeef9490-e8b9-4b53-bc06-2b18eba9cbc3",
   "metadata": {},
   "outputs": [
    {
     "data": {
      "text/plain": [
       "(1700, 2)"
      ]
     },
     "execution_count": 143,
     "metadata": {},
     "output_type": "execute_result"
    }
   ],
   "source": [
    "song_df.shape"
   ]
  },
  {
   "cell_type": "code",
   "execution_count": 144,
   "id": "90ef348a-74b1-4a5d-941a-952b13536276",
   "metadata": {},
   "outputs": [],
   "source": [
    "song_df[\"song\"] = song_df[\"song\"].str.lower()\n",
    "song_df[\"song\"] = song_df[\"song\"].replace(r\"^\\w\\s\", \" \")\n",
    "song_df[\"song\"] = song_df[\"song\"].replace(r\"\\n\", \" \", regex = True)"
   ]
  },
  {
   "cell_type": "code",
   "execution_count": 145,
   "id": "5888fc42-f2f9-4caa-9c38-09aee8d7560c",
   "metadata": {},
   "outputs": [
    {
     "data": {
      "text/html": [
       "<div>\n",
       "<style scoped>\n",
       "    .dataframe tbody tr th:only-of-type {\n",
       "        vertical-align: middle;\n",
       "    }\n",
       "\n",
       "    .dataframe tbody tr th {\n",
       "        vertical-align: top;\n",
       "    }\n",
       "\n",
       "    .dataframe thead th {\n",
       "        text-align: right;\n",
       "    }\n",
       "</style>\n",
       "<table border=\"1\" class=\"dataframe\">\n",
       "  <thead>\n",
       "    <tr style=\"text-align: right;\">\n",
       "      <th></th>\n",
       "      <th>artist</th>\n",
       "      <th>song</th>\n",
       "    </tr>\n",
       "  </thead>\n",
       "  <tbody>\n",
       "    <tr>\n",
       "      <th>0</th>\n",
       "      <td>Les Miserables</td>\n",
       "      <td>the runaway cart</td>\n",
       "    </tr>\n",
       "    <tr>\n",
       "      <th>1</th>\n",
       "      <td>Kiss</td>\n",
       "      <td>move on</td>\n",
       "    </tr>\n",
       "    <tr>\n",
       "      <th>2</th>\n",
       "      <td>Journey</td>\n",
       "      <td>one more</td>\n",
       "    </tr>\n",
       "  </tbody>\n",
       "</table>\n",
       "</div>"
      ],
      "text/plain": [
       "           artist              song\n",
       "0  Les Miserables  the runaway cart\n",
       "1            Kiss           move on\n",
       "2         Journey          one more"
      ]
     },
     "execution_count": 145,
     "metadata": {},
     "output_type": "execute_result"
    }
   ],
   "source": [
    "song_df.head(3)"
   ]
  },
  {
   "cell_type": "code",
   "execution_count": 146,
   "id": "ae3805fe-56b9-4b70-b5d5-86161a6096ec",
   "metadata": {},
   "outputs": [
    {
     "name": "stderr",
     "output_type": "stream",
     "text": [
      "[nltk_data] Downloading package punkt_tab to C:\\Users\\ANKIT\n",
      "[nltk_data]     THAKUR\\AppData\\Roaming\\nltk_data...\n",
      "[nltk_data]   Package punkt_tab is already up-to-date!\n"
     ]
    }
   ],
   "source": [
    "import nltk\n",
    "nltk.download(\"punkt_tab\")\n",
    "from nltk.stem.porter import PorterStemmer"
   ]
  },
  {
   "cell_type": "code",
   "execution_count": 147,
   "id": "88d618c1-aaeb-462e-b415-6946692bd44d",
   "metadata": {},
   "outputs": [],
   "source": [
    "ps = PorterStemmer()"
   ]
  },
  {
   "cell_type": "code",
   "execution_count": 148,
   "id": "d36aaacd-236a-4fba-b242-3bccaa2851c9",
   "metadata": {},
   "outputs": [],
   "source": [
    "def token(txt):\n",
    "    token = nltk.word_tokenize(txt)\n",
    "    wt = [ps.stem(w) for w in token]\n",
    "    return \" \".join(wt)"
   ]
  },
  {
   "cell_type": "code",
   "execution_count": 149,
   "id": "5fa23d3c-953a-40ed-bf39-2fdee88f5aab",
   "metadata": {},
   "outputs": [
    {
     "data": {
      "text/plain": [
       "0                    the runaway cart\n",
       "1                             move on\n",
       "2                            one more\n",
       "3               what i like about you\n",
       "4       children go where i send thee\n",
       "                    ...              \n",
       "1695                       cherri pie\n",
       "1696        rock 'n ' roll pain train\n",
       "1697                      dirti women\n",
       "1698                     classic rock\n",
       "1699                 intim get togeth\n",
       "Name: song, Length: 1700, dtype: object"
      ]
     },
     "execution_count": 149,
     "metadata": {},
     "output_type": "execute_result"
    }
   ],
   "source": [
    "song_df[\"song\"].apply(lambda x: token(x))"
   ]
  },
  {
   "cell_type": "code",
   "execution_count": 150,
   "id": "e0eabfa4-e74c-4d51-be3a-21945b6ca15a",
   "metadata": {},
   "outputs": [],
   "source": [
    "from sklearn.feature_extraction.text import CountVectorizer\n",
    "from sklearn.metrics.pairwise import cosine_similarity"
   ]
  },
  {
   "cell_type": "code",
   "execution_count": 151,
   "id": "b9417628-f69a-43a9-bdf6-62e99620aee7",
   "metadata": {},
   "outputs": [],
   "source": [
    "cv = CountVectorizer(analyzer = \"word\", stop_words = \"english\")\n",
    "matrix = cv.fit_transform(song_df[\"song\"])"
   ]
  },
  {
   "cell_type": "code",
   "execution_count": 152,
   "id": "b2f31f94-7289-404b-a736-782bf4564a8b",
   "metadata": {},
   "outputs": [],
   "source": [
    "cs_similar = cosine_similarity(matrix)"
   ]
  },
  {
   "cell_type": "code",
   "execution_count": null,
   "id": "fc9c6742-d641-410b-8401-ed1e98583ae1",
   "metadata": {},
   "outputs": [],
   "source": []
  },
  {
   "cell_type": "code",
   "execution_count": 153,
   "id": "d9754639-b0a7-4bb8-ac6b-76e3f03fd566",
   "metadata": {},
   "outputs": [],
   "source": [
    "def recommender(artist_name):\n",
    "    artist_songs = song_df[song_df[\"artist\"] == artist_name]\n",
    "    if artist_songs.empty:\n",
    "        return f\"No songs found\"\n",
    "    recommendations = artist_songs[\"song\"].head(5).tolist()\n",
    "    return recommendations\n"
   ]
  },
  {
   "cell_type": "code",
   "execution_count": 154,
   "id": "17f912be-2d30-433c-ab00-816b0db4ee2c",
   "metadata": {},
   "outputs": [
    {
     "data": {
      "text/plain": [
       "['somebody to hold', 'mine', 'breathless', 'silent night']"
      ]
     },
     "execution_count": 154,
     "metadata": {},
     "output_type": "execute_result"
    }
   ],
   "source": [
    "recommender(\"Taylor Swift\")"
   ]
  },
  {
   "cell_type": "code",
   "execution_count": null,
   "id": "b03c5182-522e-48b6-b766-c957dc455153",
   "metadata": {},
   "outputs": [],
   "source": []
  },
  {
   "cell_type": "code",
   "execution_count": 155,
   "id": "247dbfbb-dbd4-4957-a0fa-d5996560a04d",
   "metadata": {},
   "outputs": [],
   "source": [
    "import pickle\n",
    "pickle.dump(cs_similar, open(\"Song_Recommedation.pkl\", \"wb\"))"
   ]
  },
  {
   "cell_type": "code",
   "execution_count": 156,
   "id": "d3e68834-5eb3-4659-ab2b-5d030b44f49b",
   "metadata": {},
   "outputs": [],
   "source": [
    "dataset_sample = song_df[['artist', 'song']]\n",
    "dataset_sample.to_csv(\"dataset_sample.csv\", index=False, encoding=\"ISO-8859-1\")"
   ]
  }
 ],
 "metadata": {
  "kernelspec": {
   "display_name": "Python 3 (ipykernel)",
   "language": "python",
   "name": "python3"
  },
  "language_info": {
   "codemirror_mode": {
    "name": "ipython",
    "version": 3
   },
   "file_extension": ".py",
   "mimetype": "text/x-python",
   "name": "python",
   "nbconvert_exporter": "python",
   "pygments_lexer": "ipython3",
   "version": "3.13.1"
  }
 },
 "nbformat": 4,
 "nbformat_minor": 5
}
