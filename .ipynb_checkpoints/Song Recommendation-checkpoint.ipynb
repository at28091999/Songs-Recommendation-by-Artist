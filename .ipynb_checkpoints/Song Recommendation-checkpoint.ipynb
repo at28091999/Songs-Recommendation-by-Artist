{
 "cells": [
  {
   "cell_type": "code",
   "execution_count": 130,
   "id": "e1796610-7866-4e71-9b8e-b49ed86dc08b",
   "metadata": {},
   "outputs": [],
   "source": [
    "import numpy as np\n",
    "import pandas as pd"
   ]
  },
  {
   "cell_type": "code",
   "execution_count": 131,
   "id": "9f93281e-0682-4ce6-add3-4295cc3e2ef9",
   "metadata": {},
   "outputs": [
    {
     "data": {
      "text/html": [
       "<div>\n",
       "<style scoped>\n",
       "    .dataframe tbody tr th:only-of-type {\n",
       "        vertical-align: middle;\n",
       "    }\n",
       "\n",
       "    .dataframe tbody tr th {\n",
       "        vertical-align: top;\n",
       "    }\n",
       "\n",
       "    .dataframe thead th {\n",
       "        text-align: right;\n",
       "    }\n",
       "</style>\n",
       "<table border=\"1\" class=\"dataframe\">\n",
       "  <thead>\n",
       "    <tr style=\"text-align: right;\">\n",
       "      <th></th>\n",
       "      <th>artist</th>\n",
       "      <th>song</th>\n",
       "      <th>link</th>\n",
       "      <th>text</th>\n",
       "    </tr>\n",
       "  </thead>\n",
       "  <tbody>\n",
       "    <tr>\n",
       "      <th>0</th>\n",
       "      <td>Wishbone Ash</td>\n",
       "      <td>Right Or Wrong</td>\n",
       "      <td>/w/wishbone+ash/right+or+wrong_20147150.html</td>\n",
       "      <td>Like to have you 'round  \\r\\nWith all the lies...</td>\n",
       "    </tr>\n",
       "    <tr>\n",
       "      <th>1</th>\n",
       "      <td>Aerosmith</td>\n",
       "      <td>This Little Light Of Mine</td>\n",
       "      <td>/a/aerosmith/this+little+light+of+mine_2064448...</td>\n",
       "      <td>This Little Light of Mine (Light of Mine),  \\r...</td>\n",
       "    </tr>\n",
       "    <tr>\n",
       "      <th>2</th>\n",
       "      <td>Fall Out Boy</td>\n",
       "      <td>Dance, Dance</td>\n",
       "      <td>/f/fall+out+boy/dance+dance_10113666.html</td>\n",
       "      <td>She says she's no good with words but I'm wors...</td>\n",
       "    </tr>\n",
       "  </tbody>\n",
       "</table>\n",
       "</div>"
      ],
      "text/plain": [
       "         artist                       song  \\\n",
       "0  Wishbone Ash             Right Or Wrong   \n",
       "1     Aerosmith  This Little Light Of Mine   \n",
       "2  Fall Out Boy               Dance, Dance   \n",
       "\n",
       "                                                link  \\\n",
       "0       /w/wishbone+ash/right+or+wrong_20147150.html   \n",
       "1  /a/aerosmith/this+little+light+of+mine_2064448...   \n",
       "2          /f/fall+out+boy/dance+dance_10113666.html   \n",
       "\n",
       "                                                text  \n",
       "0  Like to have you 'round  \\r\\nWith all the lies...  \n",
       "1  This Little Light of Mine (Light of Mine),  \\r...  \n",
       "2  She says she's no good with words but I'm wors...  "
      ]
     },
     "execution_count": 131,
     "metadata": {},
     "output_type": "execute_result"
    }
   ],
   "source": [
    "song_df = pd.read_csv(\"Artist_music.csv\", encoding=\"ISO-8859-1\")\n",
    "song_df.head(3)"
   ]
  },
  {
   "cell_type": "code",
   "execution_count": 132,
   "id": "5429cd7d-0bc5-4bf2-b1ef-b83789629c87",
   "metadata": {},
   "outputs": [
    {
     "data": {
      "text/plain": [
       "(28825, 4)"
      ]
     },
     "execution_count": 132,
     "metadata": {},
     "output_type": "execute_result"
    }
   ],
   "source": [
    "song_df.shape"
   ]
  },
  {
   "cell_type": "code",
   "execution_count": 133,
   "id": "caaf931b-7b7e-47d4-8a43-44ae8a4f4fc5",
   "metadata": {},
   "outputs": [],
   "source": [
    "song_df = song_df.sample(2000).drop([\"link\", \"text\"], axis = 1).reset_index(drop = True)"
   ]
  },
  {
   "cell_type": "code",
   "execution_count": 134,
   "id": "e0b66938-2997-424c-b29a-f5ef21a66bf5",
   "metadata": {},
   "outputs": [
    {
     "data": {
      "text/plain": [
       "artist    0\n",
       "song      0\n",
       "dtype: int64"
      ]
     },
     "execution_count": 134,
     "metadata": {},
     "output_type": "execute_result"
    }
   ],
   "source": [
    "song_df.isnull().sum()"
   ]
  },
  {
   "cell_type": "code",
   "execution_count": 135,
   "id": "aeef9490-e8b9-4b53-bc06-2b18eba9cbc3",
   "metadata": {},
   "outputs": [
    {
     "data": {
      "text/plain": [
       "(2000, 2)"
      ]
     },
     "execution_count": 135,
     "metadata": {},
     "output_type": "execute_result"
    }
   ],
   "source": [
    "song_df.shape"
   ]
  },
  {
   "cell_type": "code",
   "execution_count": 136,
   "id": "90ef348a-74b1-4a5d-941a-952b13536276",
   "metadata": {},
   "outputs": [],
   "source": [
    "song_df[\"song\"] = song_df[\"song\"].str.lower()\n",
    "song_df[\"song\"] = song_df[\"song\"].replace(r\"^\\w\\s\", \" \")\n",
    "song_df[\"song\"] = song_df[\"song\"].replace(r\"\\n\", \" \", regex = True)"
   ]
  },
  {
   "cell_type": "code",
   "execution_count": 137,
   "id": "5888fc42-f2f9-4caa-9c38-09aee8d7560c",
   "metadata": {},
   "outputs": [
    {
     "data": {
      "text/html": [
       "<div>\n",
       "<style scoped>\n",
       "    .dataframe tbody tr th:only-of-type {\n",
       "        vertical-align: middle;\n",
       "    }\n",
       "\n",
       "    .dataframe tbody tr th {\n",
       "        vertical-align: top;\n",
       "    }\n",
       "\n",
       "    .dataframe thead th {\n",
       "        text-align: right;\n",
       "    }\n",
       "</style>\n",
       "<table border=\"1\" class=\"dataframe\">\n",
       "  <thead>\n",
       "    <tr style=\"text-align: right;\">\n",
       "      <th></th>\n",
       "      <th>artist</th>\n",
       "      <th>song</th>\n",
       "    </tr>\n",
       "  </thead>\n",
       "  <tbody>\n",
       "    <tr>\n",
       "      <th>0</th>\n",
       "      <td>Erik Santos</td>\n",
       "      <td>this song is for you</td>\n",
       "    </tr>\n",
       "    <tr>\n",
       "      <th>1</th>\n",
       "      <td>Kate Bush</td>\n",
       "      <td>the king is dead</td>\n",
       "    </tr>\n",
       "    <tr>\n",
       "      <th>2</th>\n",
       "      <td>Uncle Tupelo</td>\n",
       "      <td>new madrid</td>\n",
       "    </tr>\n",
       "  </tbody>\n",
       "</table>\n",
       "</div>"
      ],
      "text/plain": [
       "         artist                  song\n",
       "0   Erik Santos  this song is for you\n",
       "1     Kate Bush      the king is dead\n",
       "2  Uncle Tupelo            new madrid"
      ]
     },
     "execution_count": 137,
     "metadata": {},
     "output_type": "execute_result"
    }
   ],
   "source": [
    "song_df.head(3)"
   ]
  },
  {
   "cell_type": "code",
   "execution_count": 138,
   "id": "ae3805fe-56b9-4b70-b5d5-86161a6096ec",
   "metadata": {},
   "outputs": [
    {
     "name": "stderr",
     "output_type": "stream",
     "text": [
      "[nltk_data] Downloading package punkt to C:\\Users\\ANKIT\n",
      "[nltk_data]     THAKUR\\AppData\\Roaming\\nltk_data...\n",
      "[nltk_data]   Package punkt is already up-to-date!\n",
      "[nltk_data] Downloading package punkt_tab to C:\\Users\\ANKIT\n",
      "[nltk_data]     THAKUR\\AppData\\Roaming\\nltk_data...\n",
      "[nltk_data]   Package punkt_tab is already up-to-date!\n"
     ]
    }
   ],
   "source": [
    "import nltk\n",
    "nltk.download(\"punkt\")\n",
    "nltk.download(\"punkt_tab\")\n",
    "from nltk.stem.porter import PorterStemmer"
   ]
  },
  {
   "cell_type": "code",
   "execution_count": 139,
   "id": "88d618c1-aaeb-462e-b415-6946692bd44d",
   "metadata": {},
   "outputs": [],
   "source": [
    "ps = PorterStemmer()"
   ]
  },
  {
   "cell_type": "code",
   "execution_count": 140,
   "id": "d36aaacd-236a-4fba-b242-3bccaa2851c9",
   "metadata": {},
   "outputs": [],
   "source": [
    "def token(txt):\n",
    "    token = nltk.word_tokenize(txt)\n",
    "    wt = [ps.stem(w) for w in token]\n",
    "    return \" \".join(wt)"
   ]
  },
  {
   "cell_type": "code",
   "execution_count": 141,
   "id": "5fa23d3c-953a-40ed-bf39-2fdee88f5aab",
   "metadata": {},
   "outputs": [
    {
     "data": {
      "text/plain": [
       "0                            thi song is for you\n",
       "1                               the king is dead\n",
       "2                                     new madrid\n",
       "3                                 addict to spud\n",
       "4                     desperado wait for a train\n",
       "                          ...                   \n",
       "1995                    anytim you need a friend\n",
       "1996    i do n't care ( if tomorrow never come )\n",
       "1997                           annabella 's song\n",
       "1998                              auld lang syne\n",
       "1999                           and i love you so\n",
       "Name: song, Length: 2000, dtype: object"
      ]
     },
     "execution_count": 141,
     "metadata": {},
     "output_type": "execute_result"
    }
   ],
   "source": [
    "song_df[\"song\"].apply(lambda x: token(x))"
   ]
  },
  {
   "cell_type": "code",
   "execution_count": 142,
   "id": "e0eabfa4-e74c-4d51-be3a-21945b6ca15a",
   "metadata": {},
   "outputs": [],
   "source": [
    "from sklearn.feature_extraction.text import CountVectorizer\n",
    "from sklearn.metrics.pairwise import cosine_similarity"
   ]
  },
  {
   "cell_type": "code",
   "execution_count": 143,
   "id": "b9417628-f69a-43a9-bdf6-62e99620aee7",
   "metadata": {},
   "outputs": [],
   "source": [
    "cv = CountVectorizer(analyzer = \"word\", stop_words = \"english\")\n",
    "matrix = cv.fit_transform(song_df[\"song\"])"
   ]
  },
  {
   "cell_type": "code",
   "execution_count": 144,
   "id": "b2f31f94-7289-404b-a736-782bf4564a8b",
   "metadata": {},
   "outputs": [],
   "source": [
    "cs_similar = cosine_similarity(matrix)"
   ]
  },
  {
   "cell_type": "code",
   "execution_count": null,
   "id": "fc9c6742-d641-410b-8401-ed1e98583ae1",
   "metadata": {},
   "outputs": [],
   "source": []
  },
  {
   "cell_type": "code",
   "execution_count": 145,
   "id": "d9754639-b0a7-4bb8-ac6b-76e3f03fd566",
   "metadata": {},
   "outputs": [],
   "source": [
    "def recommender(artist_name):\n",
    "    artist_songs = song_df[song_df[\"artist\"] == artist_name]\n",
    "    if artist_songs.empty:\n",
    "        return f\"No songs found\"\n",
    "    recommendations = artist_songs[\"song\"].head(5).tolist()\n",
    "    return recommendations\n"
   ]
  },
  {
   "cell_type": "code",
   "execution_count": 146,
   "id": "17f912be-2d30-433c-ab00-816b0db4ee2c",
   "metadata": {},
   "outputs": [
    {
     "data": {
      "text/plain": [
       "['eyes open', 'storty of us', 'story of us', 'sweeter than fiction']"
      ]
     },
     "execution_count": 146,
     "metadata": {},
     "output_type": "execute_result"
    }
   ],
   "source": [
    "recommender(\"Taylor Swift\")"
   ]
  },
  {
   "cell_type": "code",
   "execution_count": null,
   "id": "b03c5182-522e-48b6-b766-c957dc455153",
   "metadata": {},
   "outputs": [],
   "source": []
  },
  {
   "cell_type": "code",
   "execution_count": 147,
   "id": "247dbfbb-dbd4-4957-a0fa-d5996560a04d",
   "metadata": {},
   "outputs": [],
   "source": [
    "import pickle\n",
    "pickle.dump(cs_similar, open(\"Song_Recommedation.pkl\", \"wb\"))"
   ]
  },
  {
   "cell_type": "code",
   "execution_count": 148,
   "id": "d3e68834-5eb3-4659-ab2b-5d030b44f49b",
   "metadata": {},
   "outputs": [],
   "source": [
    "dataset_sample = song_df[['artist', 'song']]\n",
    "dataset_sample.to_csv(\"dataset_sample.csv\", index=False, encoding=\"ISO-8859-1\")"
   ]
  }
 ],
 "metadata": {
  "kernelspec": {
   "display_name": "Python 3 (ipykernel)",
   "language": "python",
   "name": "python3"
  },
  "language_info": {
   "codemirror_mode": {
    "name": "ipython",
    "version": 3
   },
   "file_extension": ".py",
   "mimetype": "text/x-python",
   "name": "python",
   "nbconvert_exporter": "python",
   "pygments_lexer": "ipython3",
   "version": "3.13.1"
  }
 },
 "nbformat": 4,
 "nbformat_minor": 5
}
